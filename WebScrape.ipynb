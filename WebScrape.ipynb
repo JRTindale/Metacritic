{
 "cells": [
  {
   "cell_type": "code",
   "execution_count": 3,
   "metadata": {},
   "outputs": [
    {
     "name": "stderr",
     "output_type": "stream",
     "text": [
      "C:\\Users\\jrtin\\AppData\\Local\\Temp\\ipykernel_15644\\4180816140.py:7: DeprecationWarning: Importing clear_output from IPython.core.display is deprecated since IPython 7.14, please import from IPython display\n",
      "  from IPython.core.display import clear_output\n"
     ]
    }
   ],
   "source": [
    "#Import Scraping Packages\n",
    "import requests\n",
    "from bs4 import BeautifulSoup\n",
    "from time import sleep, time\n",
    "from warnings import warn\n",
    "from random import randint\n",
    "from IPython.core.display import clear_output\n",
    "import pandas as pd"
   ]
  },
  {
   "cell_type": "code",
   "execution_count": 4,
   "metadata": {},
   "outputs": [],
   "source": [
    "def getPageHTML(url):\n",
    "    user_agent = {'user-agent': 'Mozilla/5.0'}\n",
    "    response = requests.get(url, headers = user_agent)\n",
    "    return response"
   ]
  },
  {
   "cell_type": "code",
   "execution_count": 5,
   "metadata": {},
   "outputs": [],
   "source": [
    "def scrapeMetacriticGames(platform:str, pageStart:int, pageEnd:int, pageLimit:int = 80):\n",
    "\n",
    "    #Prepare the monitoring of the loop\n",
    "    pages = range(pageStart,pageEnd)\n",
    "    start_time = time()\n",
    "\n",
    "    #Prepare variables to create dictionary\n",
    "    data_dict = []\n",
    "    iGameCounter = 0\n",
    "\n",
    "    #start loop\n",
    "    for page in pages:\n",
    "        url = f'https://www.metacritic.com/browse/games/release-date/available/{platform}/metascore?view=condensed&page={page}'\n",
    "        response = getPageHTML(url)\n",
    "\n",
    "\n",
    "        soup = BeautifulSoup(response.text,'html.parser')\n",
    "        validity = soup.find('a', {\"class\": \"title\"})\n",
    "\n",
    "        # Pause the loop\n",
    "        sleep(randint(8,15))\n",
    "\n",
    "        #Increment loop and check response validity\n",
    "        elapsed_time = time() - start_time\n",
    "        print(f'Request:{page}; Frequency: {page/elapsed_time} requests/s')\n",
    "        clear_output(wait = True)\n",
    "        \n",
    "        #Break if no games are returned via request\n",
    "        if validity is None:\n",
    "            break\n",
    "        else:\n",
    "            for element in soup.find_all('div', {\"class\": \"browse_list_wrapper\"}):\n",
    "                for item in element.find_all('tr', {\"class\": \"expand_collapse\"}):\n",
    "                    data_dict.append({\n",
    "                        'title': item.find('a', {\"class\": \"title\"}).find('h3').text,\n",
    "                        'scores': {\n",
    "                            'metaCritic': item.find('div', {\"class\": \"metascore_w\"}).text,\n",
    "                            'userScore': item.find('div', {\"class\": \"user\"}).text\n",
    "                        }           \n",
    "                    })\n",
    "                    iGameCounter += 1\n",
    "\n",
    "        #Throw a warning for non-200 status codes\n",
    "        if response.status_code != 200:\n",
    "            warn(f'Request: {response}; Status code: {response.status_code}')\n",
    "        \n",
    "        #Break loop if number of requests is greater than expected\n",
    "        if page > pageLimit:\n",
    "            warn('Number of requests was greater than expected.')\n",
    "            break\n",
    "    return data_dict\n"
   ]
  },
  {
   "cell_type": "code",
   "execution_count": 6,
   "metadata": {},
   "outputs": [],
   "source": [
    "data_dict = scrapeMetacriticGames('pc',0,100)"
   ]
  },
  {
   "cell_type": "code",
   "execution_count": null,
   "metadata": {},
   "outputs": [],
   "source": [
    "\n",
    "df_gameData = pd.json_normalize(data_dict)\n",
    "df_gameData.to_csv('metacriticData.csv', encoding='utf-8', sep='|')"
   ]
  }
 ],
 "metadata": {
  "interpreter": {
   "hash": "f20482bf561bf2414dfcc92ecb66909d74555634874da222b1d3dbf389704341"
  },
  "kernelspec": {
   "display_name": "Python 3.10.3 64-bit",
   "language": "python",
   "name": "python3"
  },
  "language_info": {
   "codemirror_mode": {
    "name": "ipython",
    "version": 3
   },
   "file_extension": ".py",
   "mimetype": "text/x-python",
   "name": "python",
   "nbconvert_exporter": "python",
   "pygments_lexer": "ipython3",
   "version": "3.10.3"
  },
  "orig_nbformat": 4
 },
 "nbformat": 4,
 "nbformat_minor": 2
}
